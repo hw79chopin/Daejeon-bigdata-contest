{
 "cells": [
  {
   "cell_type": "markdown",
   "metadata": {
    "colab_type": "text",
    "id": "hHWCiu5fTse6"
   },
   "source": [
    "# 기본 설정"
   ]
  },
  {
   "cell_type": "markdown",
   "metadata": {},
   "source": [
    "# colab 용"
   ]
  },
  {
   "cell_type": "code",
   "execution_count": 1,
   "metadata": {
    "colab": {
     "base_uri": "https://localhost:8080/",
     "height": 122
    },
    "colab_type": "code",
    "id": "sCx9iy2DTufs",
    "outputId": "19fc6639-60c6-4372-c835-7a5f92b49dd2"
   },
   "outputs": [
    {
     "name": "stdout",
     "output_type": "stream",
     "text": [
      "Go to this URL in a browser: https://accounts.google.com/o/oauth2/auth?client_id=947318989803-6bn6qk8qdgf4n4g3pfee6491hc0brc4i.apps.googleusercontent.com&redirect_uri=urn%3aietf%3awg%3aoauth%3a2.0%3aoob&response_type=code&scope=email%20https%3a%2f%2fwww.googleapis.com%2fauth%2fdocs.test%20https%3a%2f%2fwww.googleapis.com%2fauth%2fdrive%20https%3a%2f%2fwww.googleapis.com%2fauth%2fdrive.photos.readonly%20https%3a%2f%2fwww.googleapis.com%2fauth%2fpeopleapi.readonly\n",
      "\n",
      "Enter your authorization code:\n",
      "··········\n",
      "Mounted at /content/gdrive\n"
     ]
    }
   ],
   "source": [
    "# Google Drive Mount\n",
    "\n",
    "from google.colab import auth\n",
    "auth.authenticate_user()\n",
    "\n",
    "from google.colab import drive\n",
    "drive.mount('/content/gdrive')"
   ]
  },
  {
   "cell_type": "code",
   "execution_count": 2,
   "metadata": {
    "colab": {
     "base_uri": "https://localhost:8080/",
     "height": 34
    },
    "colab_type": "code",
    "id": "sl-DiBnUUm-n",
    "outputId": "0ef78d33-28b6-42d4-9c49-873188f1ebd8"
   },
   "outputs": [
    {
     "name": "stdout",
     "output_type": "stream",
     "text": [
      "/content/gdrive/My Drive/스스로공부하는능동적이고자율적인혀누\n"
     ]
    }
   ],
   "source": [
    "cd gdrive/My Drive/스스로공부하는능동적이고자율적인혀누"
   ]
  },
  {
   "cell_type": "markdown",
   "metadata": {},
   "source": [
    "# 로컬용"
   ]
  },
  {
   "cell_type": "code",
   "execution_count": 1,
   "metadata": {
    "colab": {},
    "colab_type": "code",
    "id": "OzE2HQNbTse7"
   },
   "outputs": [],
   "source": [
    "import pandas as pd\n",
    "import numpy as np\n",
    "from tqdm import tqdm\n",
    "pd.options.display.max_rows = 100\n",
    "pd.options.display.max_columns = 100\n",
    "\n",
    "# 지도시각화\n",
    "import folium\n",
    "from folium import plugins\n",
    "import html\n",
    "import json\n",
    "from pandas.io.json import json_normalize\n",
    "import os\n",
    "import requests\n",
    "import ipywidgets\n",
    "from IPython.display import Image\n",
    "from ipywidgets import interact\n",
    "pd.set_option(\"display.max_rows\", 220)\n",
    "pd.set_option(\"display.max_columns\", 220)"
   ]
  },
  {
   "cell_type": "markdown",
   "metadata": {
    "colab_type": "text",
    "id": "V4ZLDzLfTsgc"
   },
   "source": [
    "# ver 3.0로 하기"
   ]
  },
  {
   "cell_type": "code",
   "execution_count": 3,
   "metadata": {
    "colab": {},
    "colab_type": "code",
    "id": "lF6sv2WfTsgd"
   },
   "outputs": [],
   "source": [
    "node = pd.read_csv('node v3.0.csv')\n",
    "phar = pd.read_csv('약국정보_운영시간 ver2.0.csv')"
   ]
  },
  {
   "cell_type": "code",
   "execution_count": 4,
   "metadata": {
    "colab": {},
    "colab_type": "code",
    "id": "hZay6ZJhVbdM"
   },
   "outputs": [],
   "source": [
    "## 거리 구하는 함수\n",
    "import numbers\n",
    "import math\n",
    "\n",
    "class GeoUtil:\n",
    "    \"\"\"\n",
    "    Geographical Utils\n",
    "    \"\"\"\n",
    "    @staticmethod\n",
    "    def degree2radius(degree):\n",
    "        return degree * (math.pi/180)\n",
    "    \n",
    "    @staticmethod\n",
    "    def get_harversion_distance(x1, y1, x2, y2, round_decimal_digits=5):\n",
    "        \"\"\"\n",
    "        경위도 (x1,y1)과 (x2,y2) 점의 거리를 반환\n",
    "        Harversion Formula 이용하여 2개의 경위도간 거래를 구함(단위:Km)\n",
    "        \"\"\"\n",
    "        if x1 is None or y1 is None or x2 is None or y2 is None:\n",
    "            return None\n",
    "        assert isinstance(x1, numbers.Number) and -180 <= x1 and x1 <= 180\n",
    "        assert isinstance(y1, numbers.Number) and  -90 <= y1 and y1 <=  90\n",
    "        assert isinstance(x2, numbers.Number) and -180 <= x2 and x2 <= 180\n",
    "        assert isinstance(y2, numbers.Number) and  -90 <= y2 and y2 <=  90\n",
    "\n",
    "        R = 6371 # 지구의 반경(단위: km)\n",
    "        dLon = GeoUtil.degree2radius(x2-x1)    \n",
    "        dLat = GeoUtil.degree2radius(y2-y1)\n",
    "\n",
    "        a = math.sin(dLat/2) * math.sin(dLat/2) \\\n",
    "            + (math.cos(GeoUtil.degree2radius(y1)) \\\n",
    "              *math.cos(GeoUtil.degree2radius(y2)) \\\n",
    "              *math.sin(dLon/2) * math.sin(dLon/2))\n",
    "        b = 2 * math.atan2(math.sqrt(a), math.sqrt(1-a))\n",
    "        return round(R * b, round_decimal_digits)\n",
    "\n",
    "    @staticmethod\n",
    "    def get_euclidean_distance(x1, y1, x2, y2, round_decimal_digits=5):        \n",
    "        \"\"\"\n",
    "        유클리안 Formula 이용하여 (x1,y1)과 (x2,y2) 점의 거리를 반환\n",
    "        \"\"\"\n",
    "        if x1 is None or y1 is None or x2 is None or y2 is None:\n",
    "            return None\n",
    "        assert isinstance(x1, numbers.Number) and -180 <= x1 and x1 <= 180\n",
    "        assert isinstance(y1, numbers.Number) and  -90 <= y1 and y1 <=  90\n",
    "        assert isinstance(x2, numbers.Number) and -180 <= x2 and x2 <= 180\n",
    "        assert isinstance(y2, numbers.Number) and  -90 <= y2 and y2 <=  90\n",
    "\n",
    "        dLon = abs(x2-x1) # 경도 차이\n",
    "        if dLon >= 180:   # 반대편으로 갈 수 있는 경우\n",
    "            dLon -= 360   # 반대편 각을 구한다\n",
    "        dLat = y2-y1      # 위도 차이\n",
    "        return round(math.sqrt(pow(dLon,2)+pow(dLat,2)),round_decimal_digits)"
   ]
  },
  {
   "cell_type": "code",
   "execution_count": 1,
   "metadata": {},
   "outputs": [],
   "source": [
    "def jsonify(data):\n",
    "    df = json_normalize(data, '근처약국', ['날짜','시간'])\n",
    "    df = df[['날짜', '시간','node_id','행정동', 'near_phar']]\n",
    "    return df"
   ]
  },
  {
   "cell_type": "code",
   "execution_count": null,
   "metadata": {},
   "outputs": [],
   "source": [
    "phar[['날짜', '요일']].drop_duplicates().sort_values(by=['날짜']).values[:27]   # 현우\n",
    "phar[['날짜', '요일']].drop_duplicates().sort_values(by=['날짜']).values[27:54] # 지환\n",
    "phar[['날짜', '요일']].drop_duplicates().sort_values(by=['날짜']).values[54:81] # 건욱\n",
    "phar[['날짜', '요일']].drop_duplicates().sort_values(by=['날짜']).values[81:]   # 세은"
   ]
  },
  {
   "cell_type": "code",
   "execution_count": 0,
   "metadata": {
    "colab": {
     "base_uri": "https://localhost:8080/",
     "height": 153
    },
    "colab_type": "code",
    "id": "nYHdakfuTsge",
    "outputId": "0b9f7698-27f4-4ee7-c1e9-4f4ff71e2ae0"
   },
   "outputs": [
    {
     "name": "stderr",
     "output_type": "stream",
     "text": [
      "  0%|          | 0/2 [00:00<?, ?it/s]\n",
      "  0%|          | 0/18 [00:00<?, ?it/s]\u001b[A\n",
      "  6%|▌         | 1/18 [00:03<00:53,  3.16s/it]\u001b[A\n",
      " 11%|█         | 2/18 [00:11<01:13,  4.59s/it]\u001b[A\n",
      " 17%|█▋        | 3/18 [02:47<12:31, 50.11s/it]\u001b[A\n",
      " 22%|██▏       | 4/18 [10:00<38:30, 165.03s/it]\u001b[A\n",
      " 28%|██▊       | 5/18 [17:19<53:32, 247.10s/it]\u001b[A\n",
      " 33%|███▎      | 6/18 [24:38<1:00:57, 304.83s/it]\u001b[A"
     ]
    }
   ],
   "source": [
    "total_data = []\n",
    "### 밑에 코드 주석처리에 자신의 할당량을 넣으시면 되뮤 ###\n",
    "for target_date in tqdm(#phar[['날짜', '요일']].drop_duplicates().sort_values(by=['날짜'])['날짜'].values[]):\n",
    "    for target_time in tqdm(range(6, 24)):\n",
    "        df_temp_phar = phar[phar['날짜']== target_date]\n",
    "        df_temp_phar = df_temp_phar[df_temp_phar[str(target_time)] == 1]  # 해당 날짜와 시간에 근무하는 약국 찾기\n",
    "\n",
    "        list_node = list(node['node_id'].unique())\n",
    "        list_phar_add = list(df_temp_phar['주소'].unique())\n",
    "        list_near_phar = []\n",
    "        for eachNode in list_node:\n",
    "            cri_node_lon = node[node['node_id']==eachNode]['node_lon'].values[0]\n",
    "            cri_node_lat = node[node['node_id']==eachNode]['node_lat'].values[0]\n",
    "            list_target = list_node.copy()\n",
    "            list_target.remove(eachNode)\n",
    "\n",
    "            # node와 약국 사이의 거리 구하기\n",
    "            list_collect_distance = []\n",
    "            dict_num_of_phar = {}\n",
    "            for phar_add in list_phar_add:\n",
    "                target_lon = df_temp_phar[df_temp_phar['주소']==phar_add]['Longitude'].values[0]\n",
    "                target_lat = df_temp_phar[df_temp_phar['주소']==phar_add]['Latitude'].values[0]\n",
    "                list_collect_distance.append(GeoUtil.get_harversion_distance(cri_node_lon, cri_node_lat, target_lon, target_lat))\n",
    "            num_of_phar = len([dist for dist in list_collect_distance if dist <= 0.5])\n",
    "            dict_num_of_phar['node_id'] = eachNode\n",
    "            dict_num_of_phar['행정동'] = node[node['node_id']==eachNode]['행정동'].values[0]\n",
    "            dict_num_of_phar['near_phar'] = num_of_phar\n",
    "            list_near_phar.append(dict_num_of_phar)\n",
    "\n",
    "        dict_result = {}\n",
    "        dict_result['날짜'] = target_date\n",
    "        dict_result['시간'] = target_time\n",
    "        dict_result['근처약국'] = list_near_phar      \n",
    "\n",
    "    total_data.append(dict_result)"
   ]
  },
  {
   "cell_type": "code",
   "execution_count": null,
   "metadata": {},
   "outputs": [],
   "source": [
    "df = jsonify(total_data)"
   ]
  },
  {
   "cell_type": "code",
   "execution_count": null,
   "metadata": {},
   "outputs": [],
   "source": [
    "df.to_csv('몇 번부터 몇 번까지 했는지 적어줭~.csv', index=False)\n",
    "# 예) '54~81.csv'"
   ]
  }
 ],
 "metadata": {
  "colab": {
   "collapsed_sections": [],
   "name": "(중요) 특정 날짜, 시간에 노드별 영업약국 찾기.ipynb",
   "provenance": []
  },
  "kernelspec": {
   "display_name": "Python 3",
   "language": "python",
   "name": "python3"
  },
  "language_info": {
   "codemirror_mode": {
    "name": "ipython",
    "version": 3
   },
   "file_extension": ".py",
   "mimetype": "text/x-python",
   "name": "python",
   "nbconvert_exporter": "python",
   "pygments_lexer": "ipython3",
   "version": "3.8.2"
  }
 },
 "nbformat": 4,
 "nbformat_minor": 1
}
